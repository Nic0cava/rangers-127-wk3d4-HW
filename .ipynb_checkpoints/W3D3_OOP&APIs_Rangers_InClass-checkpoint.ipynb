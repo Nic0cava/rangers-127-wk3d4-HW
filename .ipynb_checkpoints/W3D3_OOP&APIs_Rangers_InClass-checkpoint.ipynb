{
 "cells": [
  {
   "cell_type": "markdown",
   "metadata": {},
   "source": [
    "# Object Oriented Programming 2 - examples and APIs\n"
   ]
  },
  {
   "cell_type": "markdown",
   "metadata": {},
   "source": [
    "## Tasks Today:\n",
    "\n",
    "   \n",
    "\n",
    "1) <b>Restful APIs & HTTP Requests </b> <br>\n",
    " &nbsp;&nbsp;&nbsp;&nbsp; a) What are APIs <br>\n",
    "  &nbsp;&nbsp;&nbsp;&nbsp; b) What does HTTP stand for, request methods, status codes <br>\n",
    " &nbsp;&nbsp;&nbsp;&nbsp; c) Making API requests and retrieving/jsonifying data <br>\n",
    " &nbsp;&nbsp;&nbsp;&nbsp; d) Using APIs requests within functions & classes <br>\n",
    " 2) <b>Working with the Pokemon API </b> <br>\n",
    " &nbsp;&nbsp;&nbsp;&nbsp; a) Making Requests to the Pokemon API<br>\n",
    "  &nbsp;&nbsp;&nbsp;&nbsp; b) Creating a function to make API Requests <br>\n",
    " &nbsp;&nbsp;&nbsp;&nbsp; c) Creating a Pokemon class and instantiating Pokemon objects<br>\n",
    " &nbsp;&nbsp;&nbsp;&nbsp; d) Create an Evolver class that inherits from Pokemon class <br>\n",
    " "
   ]
  },
  {
   "cell_type": "markdown",
   "metadata": {},
   "source": [
    "# working with APis"
   ]
  },
  {
   "cell_type": "markdown",
   "metadata": {},
   "source": [
    "<p> What exactly is an API? <br> <br>\n",
    "API is the acronym for Application Programming Interface, which is a software intermediary that allows two applications to talk to each other. Each time you use an app like Facebook, send an instant message, or check the weather on your phone, you're using an API. </p>"
   ]
  },
  {
   "cell_type": "markdown",
   "metadata": {},
   "source": [
    "### The Poke API  allows you to retreive a pokemon's information from PokeAPI https://pokeapi.co/\n",
    "\n"
   ]
  },
  {
   "cell_type": "code",
   "execution_count": 2,
   "metadata": {},
   "outputs": [
    {
     "name": "stdout",
     "output_type": "stream",
     "text": [
      "Requirement already satisfied: requests in /Library/Frameworks/Python.framework/Versions/3.11/lib/python3.11/site-packages (2.31.0)\n",
      "Requirement already satisfied: charset-normalizer<4,>=2 in /Library/Frameworks/Python.framework/Versions/3.11/lib/python3.11/site-packages (from requests) (3.2.0)\n",
      "Requirement already satisfied: idna<4,>=2.5 in /Library/Frameworks/Python.framework/Versions/3.11/lib/python3.11/site-packages (from requests) (3.4)\n",
      "Requirement already satisfied: urllib3<3,>=1.21.1 in /Library/Frameworks/Python.framework/Versions/3.11/lib/python3.11/site-packages (from requests) (2.0.4)\n",
      "Requirement already satisfied: certifi>=2017.4.17 in /Library/Frameworks/Python.framework/Versions/3.11/lib/python3.11/site-packages (from requests) (2023.7.22)\n",
      "\n",
      "\u001b[1m[\u001b[0m\u001b[34;49mnotice\u001b[0m\u001b[1;39;49m]\u001b[0m\u001b[39;49m A new release of pip is available: \u001b[0m\u001b[31;49m23.1.2\u001b[0m\u001b[39;49m -> \u001b[0m\u001b[32;49m23.2.1\u001b[0m\n",
      "\u001b[1m[\u001b[0m\u001b[34;49mnotice\u001b[0m\u001b[1;39;49m]\u001b[0m\u001b[39;49m To update, run: \u001b[0m\u001b[32;49mpip3 install --upgrade pip\u001b[0m\n",
      "Note: you may need to restart the kernel to use updated packages.\n"
     ]
    }
   ],
   "source": [
    "pip install requests"
   ]
  },
  {
   "cell_type": "code",
   "execution_count": 3,
   "metadata": {},
   "outputs": [
    {
     "name": "stdout",
     "output_type": "stream",
     "text": [
      "dict_keys(['abilities', 'base_experience', 'forms', 'game_indices', 'height', 'held_items', 'id', 'is_default', 'location_area_encounters', 'moves', 'name', 'order', 'past_types', 'species', 'sprites', 'stats', 'types', 'weight'])\n",
      "[{'ability': {'name': 'synchronize', 'url': 'https://pokeapi.co/api/v2/ability/28/'}, 'is_hidden': False, 'slot': 1}, {'ability': {'name': 'inner-focus', 'url': 'https://pokeapi.co/api/v2/ability/39/'}, 'is_hidden': True, 'slot': 3}]\n"
     ]
    }
   ],
   "source": [
    "# making an API call\n",
    "import requests\n",
    "\n",
    "response = requests.get(\"https://pokeapi.co/api/v2/pokemon/umbreon\") #the GET method allows us to RETREIVE/GET data\n",
    "#print(response.text)\n",
    "\n",
    "\n",
    "\n",
    "if response.status_code == 200: #200 is a successful request & response\n",
    "    data = response.json()#jsonifying the data to be a usable dictionary/object\n",
    "\n",
    "print(data.keys())\n",
    "print(data['abilities'])\n"
   ]
  },
  {
   "cell_type": "markdown",
   "metadata": {},
   "source": [
    "### Display a Pokemon's name, weight, abilities, and types"
   ]
  },
  {
   "cell_type": "code",
   "execution_count": 4,
   "metadata": {},
   "outputs": [
    {
     "name": "stdout",
     "output_type": "stream",
     "text": [
      "Umbreon\n",
      "10\n",
      "270\n",
      "[{'ability': {'name': 'synchronize', 'url': 'https://pokeapi.co/api/v2/ability/28/'}, 'is_hidden': False, 'slot': 1}, {'ability': {'name': 'inner-focus', 'url': 'https://pokeapi.co/api/v2/ability/39/'}, 'is_hidden': True, 'slot': 3}]\n",
      "[{'slot': 1, 'type': {'name': 'dark', 'url': 'https://pokeapi.co/api/v2/type/17/'}}]\n"
     ]
    }
   ],
   "source": [
    "name = data['name']\n",
    "print(name.title())\n",
    "\n",
    "#retrieve both height & weight & print them out\n",
    "\n",
    "height = data['height']\n",
    "print(height)\n",
    "\n",
    "weight = data['weight']\n",
    "print(weight)\n",
    "\n",
    "#retrive abilities & types\n",
    "\n",
    "abilities = data['abilities']\n",
    "print(abilities)\n",
    "\n",
    "types = data['types']\n",
    "print(types)"
   ]
  },
  {
   "cell_type": "code",
   "execution_count": null,
   "metadata": {},
   "outputs": [],
   "source": []
  },
  {
   "cell_type": "code",
   "execution_count": 5,
   "metadata": {},
   "outputs": [
    {
     "name": "stdout",
     "output_type": "stream",
     "text": [
      "['synchronize', 'inner-focus']\n"
     ]
    }
   ],
   "source": [
    "abilities = []\n",
    "\n",
    "for ability in data['abilities']:\n",
    "    abilities.append(ability['ability']['name'])\n",
    "\n",
    "print(abilities)"
   ]
  },
  {
   "cell_type": "code",
   "execution_count": 6,
   "metadata": {},
   "outputs": [
    {
     "name": "stdout",
     "output_type": "stream",
     "text": [
      "['synchronize', 'inner-focus']\n"
     ]
    }
   ],
   "source": [
    "abilities = [ability['ability']['name'] for ability in data['abilities']]\n",
    "print(abilities)"
   ]
  },
  {
   "cell_type": "code",
   "execution_count": 7,
   "metadata": {},
   "outputs": [
    {
     "name": "stdout",
     "output_type": "stream",
     "text": [
      "['dark']\n"
     ]
    }
   ],
   "source": [
    "types = [type_['type']['name'] for type_ in data['types']]\n",
    "print(types)"
   ]
  },
  {
   "cell_type": "markdown",
   "metadata": {},
   "source": [
    "#### Create a function to Pull in your own Pokemon's data "
   ]
  },
  {
   "cell_type": "code",
   "execution_count": 8,
   "metadata": {},
   "outputs": [
    {
     "data": {
      "text/plain": [
       "{'name': 'umbreon',\n",
       " 'weight': 270,\n",
       " 'height': 10,\n",
       " 'abilities': ['synchronize', 'inner-focus'],\n",
       " 'types': ['dark']}"
      ]
     },
     "execution_count": 8,
     "metadata": {},
     "output_type": "execute_result"
    }
   ],
   "source": [
    "def poke_api_call(pokemon):\n",
    "    response = requests.get(\"https://pokeapi.co/api/v2/pokemon/umbreon\") #the GET method allows us to RETREIVE/GET data\n",
    "#print(response.text)\n",
    "\n",
    "\n",
    "\n",
    "    if response.status_code == 200: #200 is a successful request & response\n",
    "        data = response.json() #jsonifying the data to be a usable dictionary/object\n",
    "    \n",
    "    name = data['name']\n",
    "    weight = data['weight']\n",
    "    height = data['height']\n",
    "    abilities = [ability['ability']['name'] for ability in data['abilities']]\n",
    "    types = [type_['type']['name'] for type_ in data['types']]\n",
    "    \n",
    "    poke_stats = {\n",
    "        'name' : name,\n",
    "        'weight' : weight,\n",
    "        'height' : height,\n",
    "        'abilities' : abilities,\n",
    "        'types' : types\n",
    "    }\n",
    "\n",
    "    return poke_stats\n",
    "\n",
    "poke_api_call('umbreon')"
   ]
  },
  {
   "cell_type": "code",
   "execution_count": null,
   "metadata": {},
   "outputs": [],
   "source": [
    "\n"
   ]
  },
  {
   "cell_type": "markdown",
   "metadata": {},
   "source": [
    "Choose your pokemon"
   ]
  },
  {
   "cell_type": "code",
   "execution_count": null,
   "metadata": {},
   "outputs": [],
   "source": [
    "\n"
   ]
  },
  {
   "cell_type": "markdown",
   "metadata": {},
   "source": [
    "#### Use your function to create a dictionary of your favorite 6 pokemon"
   ]
  },
  {
   "cell_type": "code",
   "execution_count": 9,
   "metadata": {},
   "outputs": [
    {
     "data": {
      "text/plain": [
       "{'name': 'umbreon',\n",
       " 'weight': 270,\n",
       " 'height': 10,\n",
       " 'abilities': ['synchronize', 'inner-focus'],\n",
       " 'types': ['dark']}"
      ]
     },
     "execution_count": 9,
     "metadata": {},
     "output_type": "execute_result"
    }
   ],
   "source": [
    "# Place all 6 of your pokemon on the object below, each pokemon should have at least as much info as Pikachu did.\n",
    "party = ['umbreon', 'vaporeon', 'jolteon', 'espeon', 'glaceon', 'sylveon', 'leafeon']\n",
    "\n",
    "# from random import randint\n",
    "\n",
    "# random_team = [randint(1, 1000) for i in range(6)]\n",
    "# print(random_team)\n",
    "\n",
    "def poke_api_call(pokemon):\n",
    "    response = requests.get(f\"https://pokeapi.co/api/v2/pokemon/{pokemon.lower()}\") #the GET method allows us to RETREIVE/GET data\n",
    "#print(response.text)\n",
    "\n",
    "\n",
    "\n",
    "    if response.status_code == 200: #200 is a successful request & response\n",
    "        data = response.json() #jsonifying the data to be a usable dictionary/object\n",
    "    \n",
    "    name = data['name']\n",
    "    weight = data['weight']\n",
    "    height = data['height']\n",
    "    abilities = [ability['ability']['name'] for ability in data['abilities']]\n",
    "    types = [type_['type']['name'] for type_ in data['types']]\n",
    "    \n",
    "    poke_stats = {\n",
    "        'name' : name,\n",
    "        'weight' : weight,\n",
    "        'height' : height,\n",
    "        'abilities' : abilities,\n",
    "        'types' : types\n",
    "    }\n",
    "\n",
    "    return poke_stats\n",
    "\n",
    "poke_api_call('umbreon')"
   ]
  },
  {
   "cell_type": "code",
   "execution_count": 10,
   "metadata": {},
   "outputs": [
    {
     "name": "stdout",
     "output_type": "stream",
     "text": [
      "{'Umbreon': {'name': 'umbreon', 'weight': 270, 'height': 10, 'abilities': ['synchronize', 'inner-focus'], 'types': ['dark']}, 'Vaporeon': {'name': 'vaporeon', 'weight': 290, 'height': 10, 'abilities': ['water-absorb', 'hydration'], 'types': ['water']}, 'Jolteon': {'name': 'jolteon', 'weight': 245, 'height': 8, 'abilities': ['volt-absorb', 'quick-feet'], 'types': ['electric']}, 'Espeon': {'name': 'espeon', 'weight': 265, 'height': 9, 'abilities': ['synchronize', 'magic-bounce'], 'types': ['psychic']}, 'Glaceon': {'name': 'glaceon', 'weight': 259, 'height': 8, 'abilities': ['snow-cloak', 'ice-body'], 'types': ['ice']}, 'Sylveon': {'name': 'sylveon', 'weight': 235, 'height': 10, 'abilities': ['cute-charm', 'pixilate'], 'types': ['fairy']}, 'Leafeon': {'name': 'leafeon', 'weight': 255, 'height': 10, 'abilities': ['leaf-guard', 'chlorophyll'], 'types': ['grass']}}\n"
     ]
    }
   ],
   "source": [
    "my_poke_team = {}\n",
    "\n",
    "for pokemon in party:\n",
    "    poke_stats = poke_api_call(pokemon)\n",
    "    my_poke_team[poke_stats['name'].title()] = poke_stats\n",
    "\n",
    "print(my_poke_team)"
   ]
  },
  {
   "cell_type": "markdown",
   "metadata": {},
   "source": [
    "## Lets create a class called 'Pokemon' and create our pokemon as instances"
   ]
  },
  {
   "cell_type": "code",
   "execution_count": 11,
   "metadata": {},
   "outputs": [],
   "source": [
    "class Pokemon():\n",
    "\n",
    "    def __init__(self, name):\n",
    "        self.id = None\n",
    "        self.name = name\n",
    "        self.type = []\n",
    "        self.abilities = []\n",
    "        self.weight = None\n",
    "        self.height = None\n",
    "        self.poke_api_call()\n",
    "\n",
    "    def poke_api_call(self):\n",
    "        \n",
    "        response = requests.get(f\"https://pokeapi.co/api/v2/pokemon/{self.name.lower()}\") #the GET method allows us to RETREIVE/GET data\n",
    "#print(response.text)\n",
    "\n",
    "\n",
    "\n",
    "        if response.status_code == 200: #200 is a successful request & response\n",
    "            data = response.json() #jsonifying the data to be a usable dictionary/object\n",
    "        \n",
    "        self.id = data['id']\n",
    "        self.name = data['name'] #im trying to grab the key of id\n",
    "        self.weight = data['weight']\n",
    "        self.height = data['height']\n",
    "        self.abilities = [ability['ability']['name'] for ability in data['abilities']]\n",
    "        self.types = [type_['type']['name'] for type_ in data['types']]\n",
    "\n",
    "        print(f\"{self.name}'s data has been updated\")\n",
    "\n",
    "    def throw_random_ability(self):\n",
    "        return choice(self.abilities)\n",
    "\n",
    "    def __repr__(self):\n",
    "        return f\"You caught a {self.name}! Congrates!\"\n",
    "        "
   ]
  },
  {
   "cell_type": "code",
   "execution_count": null,
   "metadata": {},
   "outputs": [],
   "source": []
  },
  {
   "cell_type": "markdown",
   "metadata": {},
   "source": [
    "### Let's Catch some Pokemon"
   ]
  },
  {
   "cell_type": "code",
   "execution_count": 12,
   "metadata": {},
   "outputs": [
    {
     "name": "stdout",
     "output_type": "stream",
     "text": [
      "umbreon's data has been updated\n",
      "vaporeon's data has been updated\n",
      "jolteon's data has been updated\n",
      "espeon's data has been updated\n",
      "glaceon's data has been updated\n",
      "sylveon's data has been updated\n",
      "leafeon's data has been updated\n",
      "{'umbreon': You caught a umbreon! Congrates!, 'vaporeon': You caught a vaporeon! Congrates!, 'jolteon': You caught a jolteon! Congrates!, 'espeon': You caught a espeon! Congrates!, 'glaceon': You caught a glaceon! Congrates!, 'sylveon': You caught a sylveon! Congrates!, 'leafeon': You caught a leafeon! Congrates!}\n",
      "umbreon stats:\n",
      "\n",
      "{'id': 197, 'name': 'umbreon', 'type': [], 'abilities': ['synchronize', 'inner-focus'], 'weight': 270, 'height': 10, 'types': ['dark']}\n",
      "vaporeon stats:\n",
      "\n",
      "{'id': 134, 'name': 'vaporeon', 'type': [], 'abilities': ['water-absorb', 'hydration'], 'weight': 290, 'height': 10, 'types': ['water']}\n",
      "jolteon stats:\n",
      "\n",
      "{'id': 135, 'name': 'jolteon', 'type': [], 'abilities': ['volt-absorb', 'quick-feet'], 'weight': 245, 'height': 8, 'types': ['electric']}\n",
      "espeon stats:\n",
      "\n",
      "{'id': 196, 'name': 'espeon', 'type': [], 'abilities': ['synchronize', 'magic-bounce'], 'weight': 265, 'height': 9, 'types': ['psychic']}\n",
      "glaceon stats:\n",
      "\n",
      "{'id': 471, 'name': 'glaceon', 'type': [], 'abilities': ['snow-cloak', 'ice-body'], 'weight': 259, 'height': 8, 'types': ['ice']}\n",
      "sylveon stats:\n",
      "\n",
      "{'id': 700, 'name': 'sylveon', 'type': [], 'abilities': ['cute-charm', 'pixilate'], 'weight': 235, 'height': 10, 'types': ['fairy']}\n",
      "leafeon stats:\n",
      "\n",
      "{'id': 470, 'name': 'leafeon', 'type': [], 'abilities': ['leaf-guard', 'chlorophyll'], 'weight': 255, 'height': 10, 'types': ['grass']}\n"
     ]
    }
   ],
   "source": [
    "party = ['umbreon', 'vaporeon', 'jolteon', 'espeon', 'glaceon', 'sylveon', 'leafeon']\n",
    "\n",
    "my_team = {}\n",
    "for pokemon in party:\n",
    "    poke = Pokemon(pokemon)\n",
    "    my_team[poke.name] = poke\n",
    "\n",
    "print(my_team)\n",
    "\n",
    "for name, stats in my_team.items():\n",
    "    print(f\"{name} stats:\\n\")\n",
    "    print(stats.__dict__)"
   ]
  },
  {
   "cell_type": "markdown",
   "metadata": {},
   "source": [
    "## Exercise 1:"
   ]
  },
  {
   "cell_type": "markdown",
   "metadata": {},
   "source": [
    "### Create a Method prints an image of your pokemon\n",
    "\n",
    "<p>HINT: You may need another attribute as well to store your image url within. </p>"
   ]
  },
  {
   "cell_type": "code",
   "execution_count": 13,
   "metadata": {},
   "outputs": [
    {
     "data": {
      "text/html": [
       "<img src=\"https://i.redd.it/45n4mhusa8l41.jpg\" width=\"300\"/>"
      ],
      "text/plain": [
       "<IPython.core.display.Image object>"
      ]
     },
     "metadata": {},
     "output_type": "display_data"
    }
   ],
   "source": [
    "# Display an image in Jupyter notebook\n",
    "from IPython.display import Image\n",
    "\n",
    "display(Image( url = 'https://i.redd.it/45n4mhusa8l41.jpg', width = 300))\n"
   ]
  },
  {
   "cell_type": "code",
   "execution_count": 14,
   "metadata": {},
   "outputs": [],
   "source": [
    "# recreate your pokemon class here\n",
    "class Pokemon():\n",
    "    \n",
    "    def __init__(self, name):\n",
    "        self.id = None\n",
    "        self.name = name\n",
    "        self.types = []\n",
    "        self.abilities = []\n",
    "        self.weight = None \n",
    "        self.height = None\n",
    "        self.image = None\n",
    "        self.poke_api_call()\n",
    "        \n",
    "    def poke_api_call(self):\n",
    "#         print('In the poke api call')\n",
    "        response = requests.get(f\"https://pokeapi.co/api/v2/pokemon/{self.name.lower()}\")\n",
    "#         print(response)\n",
    "\n",
    "        if response.status_code == 200: #200 is a successful request & response\n",
    "            data = response.json() #jsonifying the data to be a usable dictionary/object \n",
    "        else:\n",
    "            return \"Not a valid pokemon name. Please try again\", response.status_code        \n",
    "\n",
    "#         print(data)\n",
    "        self.id = data['id'] #im trying to grab the key of id \n",
    "        self.name = data['name']\n",
    "        self.weight  = data['weight']\n",
    "        self.height = data['height']\n",
    "        self.abilities = [ability['ability']['name'] for ability in data['abilities']]\n",
    "        self.types = [type_['type']['name'] for type_ in data['types']]\n",
    "        self.image = data['sprites']['front_default']\n",
    "        \n",
    "        print(f\"{self.name}'s data has been updated\")\n",
    "    \n",
    "    def throw_random_ability(self):\n",
    "        return choice(self.abilities)\n",
    "\n",
    "    def display_image(self):\n",
    "        display(Image(url = self.image))\n",
    "    \n",
    "    def __repr__(self):\n",
    "        return f\"You caught a {self.name}! Congrats!\"\n",
    "        \n",
    "    "
   ]
  },
  {
   "cell_type": "code",
   "execution_count": 15,
   "metadata": {},
   "outputs": [
    {
     "name": "stdout",
     "output_type": "stream",
     "text": [
      "umbreon's data has been updated\n"
     ]
    },
    {
     "data": {
      "text/html": [
       "<img src=\"https://raw.githubusercontent.com/PokeAPI/sprites/master/sprites/pokemon/197.png\"/>"
      ],
      "text/plain": [
       "<IPython.core.display.Image object>"
      ]
     },
     "metadata": {},
     "output_type": "display_data"
    }
   ],
   "source": [
    "umbreon = Pokemon('umbreon')\n",
    "umbreon.display_image()"
   ]
  },
  {
   "cell_type": "markdown",
   "metadata": {},
   "source": [
    "## Exercise 2:"
   ]
  },
  {
   "cell_type": "markdown",
   "metadata": {},
   "source": [
    "### Create a Method that evolves your Pokemon\n",
    "If your pokemon can't evolve any further print a message that says \"\\<name of pokemon> can't evolve.\""
   ]
  },
  {
   "cell_type": "code",
   "execution_count": 16,
   "metadata": {},
   "outputs": [],
   "source": [
    "from time import sleep"
   ]
  },
  {
   "cell_type": "markdown",
   "metadata": {},
   "source": [
    "Now let's evolve a few"
   ]
  },
  {
   "cell_type": "code",
   "execution_count": 17,
   "metadata": {
    "scrolled": true
   },
   "outputs": [],
   "source": [
    "import requests\n",
    "# recreate your pokemon class here\n",
    "class Evolver(Pokemon):\n",
    "    \n",
    "    def __init__(self, name):\n",
    "        super().__init__(name)\n",
    "        \n",
    "    def evolve(self): \n",
    "        #api call specific for evolution\n",
    "        response = requests.get(f\"https://pokeapi.co/api/v2/pokemon-species/{self.name.lower()}\")\n",
    "        \n",
    "        if response.status_code == 200:\n",
    "            data = response.json()\n",
    "        else:\n",
    "            return \"Ran into an inssue, please check your pokemon's name\", response.status_code\n",
    "        \n",
    "        response = requests.get(data['evolution_chain']['url']) #this is the url from data dictionary\n",
    "        \n",
    "        if response.status_code == 200:\n",
    "            data = response.json()\n",
    "            ev_chain = data['chain']\n",
    "            \n",
    "        else:\n",
    "            return \"Ran into an  issue, please check your pokemon's name\", response.status_code \n",
    "        \n",
    "        \n",
    "        base_name = ev_chain['species']['name'] #charmander\n",
    "        evolution = ev_chain['evolves_to'][0] #evolution dictionary\n",
    "        evolution_name = evolution['species']['name'] #charmeleon \n",
    "        \n",
    "        \n",
    "        if base_name == self.name: #charmander \n",
    "            pass \n",
    "        elif evolution_name == self.name:\n",
    "            evolution_name = evolution['evolves_to'][0]['species']['name'] #charizard\n",
    "        else:\n",
    "            print(f\"You cannot evolve your {self.name.title()} any further....:(\")\n",
    "            return\n",
    "            \n",
    "        print(\"........\")\n",
    "        sleep(1)\n",
    "        print(f\"Your {self.name} is  evolving!!!!!!\")\n",
    "        self.display_image()\n",
    "        sleep(1)\n",
    "        print(\"........\")\n",
    "        print(f\"Congratulations! Your {self.name} has evolved to......\")\n",
    "        self.name = evolution_name\n",
    "        self.poke_api_call()\n",
    "        print(f\"{self.name.title()}!!!!\")\n",
    "        self.display_image()\n",
    "\n",
    "\n",
    "\n",
    "\n",
    "\n",
    "   "
   ]
  },
  {
   "cell_type": "code",
   "execution_count": 18,
   "metadata": {},
   "outputs": [
    {
     "name": "stdout",
     "output_type": "stream",
     "text": [
      "charmander's data has been updated\n"
     ]
    }
   ],
   "source": [
    "charmander = Evolver('charmander')\n"
   ]
  },
  {
   "cell_type": "code",
   "execution_count": 20,
   "metadata": {},
   "outputs": [
    {
     "name": "stdout",
     "output_type": "stream",
     "text": [
      "........\n",
      "Your charmeleon is  evolving!!!!!!\n"
     ]
    },
    {
     "data": {
      "text/html": [
       "<img src=\"https://raw.githubusercontent.com/PokeAPI/sprites/master/sprites/pokemon/5.png\"/>"
      ],
      "text/plain": [
       "<IPython.core.display.Image object>"
      ]
     },
     "metadata": {},
     "output_type": "display_data"
    },
    {
     "name": "stdout",
     "output_type": "stream",
     "text": [
      "........\n",
      "Congratulations! Your charmeleon has evolved to......\n",
      "charizard's data has been updated\n",
      "Charizard!!!!\n"
     ]
    },
    {
     "data": {
      "text/html": [
       "<img src=\"https://raw.githubusercontent.com/PokeAPI/sprites/master/sprites/pokemon/6.png\"/>"
      ],
      "text/plain": [
       "<IPython.core.display.Image object>"
      ]
     },
     "metadata": {},
     "output_type": "display_data"
    }
   ],
   "source": [
    "charmander.evolve()"
   ]
  },
  {
   "cell_type": "code",
   "execution_count": null,
   "metadata": {},
   "outputs": [],
   "source": []
  },
  {
   "cell_type": "code",
   "execution_count": null,
   "metadata": {},
   "outputs": [],
   "source": [
    "## Evolver class should inherit pokemon class\n"
   ]
  },
  {
   "cell_type": "markdown",
   "metadata": {},
   "source": [
    "#  Final Exercise: <br> <br>Create a Move_Tutor Class that in herits from the Pokemon parent class.\n",
    "\n",
    "<p>This class should have a list attribute (move_list) that holds pokemon moves which should be populated with an api call to the PokeApi moves section  (just like we did with abilities and types in the Pokemon class example). Finally create a class method that teaches your pokemon up to 4 moves. This method should take in a user input to what move they would like to teach and do a membership inside the move_list. If the move exists inside the move_list the pokemon can learn that move and append to the final taught_moves list. </p> \n",
    "\n"
   ]
  },
  {
   "cell_type": "code",
   "execution_count": null,
   "metadata": {},
   "outputs": [],
   "source": [
    "class Move_Tutor(Pokemon):\n",
    "    def __init__(self):\n",
    "        self.move_list = []\n",
    "        self.taught_moves = []\n",
    "        \n",
    "    def teach_move(self):\n",
    "        pass"
   ]
  },
  {
   "cell_type": "code",
   "execution_count": null,
   "metadata": {},
   "outputs": [],
   "source": []
  },
  {
   "cell_type": "code",
   "execution_count": null,
   "metadata": {},
   "outputs": [],
   "source": [
    "pikachu.teach_move()\n"
   ]
  },
  {
   "cell_type": "code",
   "execution_count": null,
   "metadata": {},
   "outputs": [],
   "source": [
    "pikachu.show_moves()"
   ]
  }
 ],
 "metadata": {
  "kernelspec": {
   "display_name": "Python 3 (ipykernel)",
   "language": "python",
   "name": "python3"
  },
  "language_info": {
   "codemirror_mode": {
    "name": "ipython",
    "version": 3
   },
   "file_extension": ".py",
   "mimetype": "text/x-python",
   "name": "python",
   "nbconvert_exporter": "python",
   "pygments_lexer": "ipython3",
   "version": "3.11.4"
  }
 },
 "nbformat": 4,
 "nbformat_minor": 4
}
