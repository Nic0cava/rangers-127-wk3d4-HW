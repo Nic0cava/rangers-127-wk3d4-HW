{
 "cells": [
  {
   "cell_type": "markdown",
   "metadata": {},
   "source": [
    " <h1 align = center> Principles of Object Oriented Programming </h1>"
   ]
  },
  {
   "cell_type": "markdown",
   "metadata": {},
   "source": [
    "#### 4 principles\n",
    "- Encapsulation\n",
    "- Inheritance\n",
    "- Polymorphism\n",
    "- Abstraction\n"
   ]
  },
  {
   "cell_type": "markdown",
   "metadata": {},
   "source": [
    "## ENCAPSULATION"
   ]
  },
  {
   "cell_type": "markdown",
   "metadata": {},
   "source": [
    "In encapsulation, the variables of a class can be made hidden from other classes, and can be accessed only through the methods of their current class. Therefore, it is also known as data hiding.\n",
    "<br><br>\n",
    "Encapsulation can be described as a protective barrier that prevents the code and data being randomly accessed by other code defined outside the class. Access to the data and code is tightly controlled by a class."
   ]
  },
  {
   "cell_type": "code",
   "execution_count": 1,
   "metadata": {},
   "outputs": [],
   "source": [
    "from datetime import timedelta, date\n",
    "from IPython.display import Image\n",
    "import requests\n",
    "from time import sleep\n",
    "\n",
    "generic_image = 'codeflix.png'\n"
   ]
  },
  {
   "cell_type": "code",
   "execution_count": null,
   "metadata": {},
   "outputs": [],
   "source": [
    "#access modifiers also give differing levels of protection. Public, Protected (denoted by \"_\"), \n",
    "#Private (denoted by \"__\")\n",
    "\n",
    "#But in general wrapping your data (aka attributes) and methods inside of a class still has some of protection\n",
    "\n",
    "class MyVideo():\n",
    "    \n",
    "    def __init__(self, title, description, length, preview, genre, cast, view_size, rating):\n",
    "        self.title = title #strings\n",
    "        self.description = description\n",
    "        self.length = length\n",
    "        self.preview = preview #boolean\n",
    "        self.genre = genre\n",
    "        self.cast = cast #list\n",
    "        self.view_size = view_size\n",
    "        self.rating = rating\n",
    "\n",
    "    def display_title(self):\n",
    "            self.title = input(\"Title?: \")\n",
    "            \n",
    "    def display_movie_info(self):\n",
    "        print(f'Move Title: {self.title}')\n",
    "        print(f'Description: {self.description}')\n",
    "\n",
    "    def display_cast(self):\n",
    "\n",
    "        for cast in self.cast:\n",
    "            print(f\"{cast} is in {self.title}!\")\n",
    "            \n",
    "    def __repr__(self):\n",
    "        return f\"Your Move: {self.title}!\"\n",
    "\n",
    "\n",
    "    \n",
    "            \n",
    "        "
   ]
  },
  {
   "cell_type": "code",
   "execution_count": null,
   "metadata": {},
   "outputs": [],
   "source": [
    "\n",
    "alex_video = MyVideo('Willow', 'Group of crazy characters needs to save the baby from the evil queen', \"2.5 hrs\", False, 'fantasy', ['Cast1', 'Cast2', 'Cast3'], 'Large', 3.9)\n",
    "\n",
    "alex_video.display_movie_info()\n",
    "print(alex_video.title)\n",
    "\n"
   ]
  },
  {
   "cell_type": "code",
   "execution_count": 2,
   "metadata": {},
   "outputs": [],
   "source": [
    "\n",
    "#my attributes & methods are protected inside this class even through they are all public\n",
    "class Video():\n",
    "\n",
    "    def __init__(self):\n",
    "        self.title = None\n",
    "        self.length = timedelta()\n",
    "        self.link = generic_image\n",
    "\n",
    "    def play(self):\n",
    "        print(f\"Now playing {self.title}\")\n",
    "        display(Image(url = self.link))\n",
    "\n",
    "    def __len__(self):\n",
    "        return self.length\n",
    "\n",
    "\n",
    "    def __repr__(self):\n",
    "        return f\"{self.title} is {self.length.seconds} seconds long\"\n",
    "\n",
    "\n",
    "\n",
    "\n",
    "\n",
    "\n",
    "\n",
    "        "
   ]
  },
  {
   "cell_type": "markdown",
   "metadata": {},
   "source": [
    "## INHERITANCE"
   ]
  },
  {
   "cell_type": "markdown",
   "metadata": {},
   "source": [
    "Inheritance can be defined as the process where one class acquires the properties (methods and fields) of another.\n",
    "<br>\n",
    "<i>(see above)</i>"
   ]
  },
  {
   "cell_type": "code",
   "execution_count": 3,
   "metadata": {},
   "outputs": [],
   "source": [
    "#parent classes aka base classes that children classes aka derived classes can inherit\n",
    "\n",
    "class Episode(Video):\n",
    "\n",
    "    def __init__(self, data):\n",
    "        Video.__init__(self)\n",
    "        self.number = data['number']\n",
    "        self.season = data['season']\n",
    "        self.data_aired = data['airdate']\n",
    "        self.summary = data['summary']\n",
    "        self.rating = data['rating']['average']\n",
    "        self.title = data['name']\n",
    "        self.length = timedelta(minutes = data['runtime'])\n",
    "        if data['image']:\n",
    "            self.link = data['image']['medium']\n",
    "\n",
    "\n"
   ]
  },
  {
   "cell_type": "markdown",
   "metadata": {},
   "source": [
    "## POLYMORPHISM"
   ]
  },
  {
   "cell_type": "markdown",
   "metadata": {},
   "source": [
    "In object-oriented programming, polymorphism (from the Greek meaning “having multiple forms”) is the characteristic of being able to assign a different meaning or usage to something in different contexts — specifically, to allow an entity such as a function, or an object to have more than one form.\n",
    "<br><br>\n"
   ]
  },
  {
   "cell_type": "code",
   "execution_count": 4,
   "metadata": {},
   "outputs": [],
   "source": [
    "\n",
    "class Series():\n",
    "\n",
    "    def __init__(self):\n",
    "        self.id = None\n",
    "        self.network = None\n",
    "        self.seasons = None\n",
    "        self.summary = None\n",
    "        self.title = None\n",
    "        self.genres = []\n",
    "        self.episodes = []\n",
    "\n",
    "    def get_info(self, query = \"\"):\n",
    "        data = None #in case we can't find the show\n",
    "\n",
    "\n",
    "        while not data:\n",
    "            if not query:\n",
    "                query = input(\"What is the name of the series? \")\n",
    "            response = requests.get(f'https://api.tvmaze.com/singlesearch/shows?q={query}')\n",
    "            if response.status_code == 200:\n",
    "                data = response.json()\n",
    "            else:\n",
    "                print(\"Series Error: Series does not exist, chech your series name\", response.status_code) #should come back error\n",
    "\n",
    "        #use data to set our series attributes\n",
    "        self.id = data['id']\n",
    "        self.title = data['name']\n",
    "        self.genres = data['genres']\n",
    "        if data['network']:\n",
    "            self.network = data['network']['name']\n",
    "        else:\n",
    "            self.network = data['webChannel']['name']\n",
    "        self.summary = data['summary']\n",
    "\n",
    "        episodes = None\n",
    "        response = requests.get(f'https://api.tvmaze.com/shows/{self.id}/episodes')\n",
    "        if response.status_code == 200:\n",
    "            episodes = response.json()\n",
    "        else:\n",
    "            print(f'Episode Error: Episodes do not exist on this series, check your series name')\n",
    "\n",
    "\n",
    "        self.seasons = episodes[-1]['season']\n",
    "        self.episodes = [Episode(ep) for ep in episodes] #this is passing the entire episode directory to Episode() class\n",
    "        print(f\"{self.title} has {len(self.episodes)} episodes!\")\n",
    "\n",
    "\n",
    "    def watch(self):\n",
    "        print(self.episodes[:10])\n",
    "        for i in range(len(self.episodes)):\n",
    "            if i > 0 and i % 3 == 0:\n",
    "                watching = input(\"Are you still watching? also get a job! y/n\")\n",
    "                if watching.lower().strip() not in {'yes', 'y', 'yeah', 'oh yeah', 'ye'}:\n",
    "                    break\n",
    "            self.episodes[i].play()\n",
    "            sleep(self.episodes[i].length.seconds/1000)\n",
    "\n",
    "\n",
    "    def __len__(self):\n",
    "        return len(self.episodes)\n",
    "\n",
    "    def __repr__(self):\n",
    "        return f\"Title: {self.title}\"\n",
    "            \n",
    "    \n",
    "\n",
    "\n",
    "\n",
    "\n"
   ]
  },
  {
   "cell_type": "code",
   "execution_count": 5,
   "metadata": {},
   "outputs": [],
   "source": [
    "my_show = Series()"
   ]
  },
  {
   "cell_type": "code",
   "execution_count": 6,
   "metadata": {},
   "outputs": [
    {
     "name": "stdout",
     "output_type": "stream",
     "text": [
      "What is the name of the series?  big brother\n"
     ]
    },
    {
     "name": "stdout",
     "output_type": "stream",
     "text": [
      "Big Brother has 874 episodes!\n"
     ]
    }
   ],
   "source": [
    "my_show.get_info()"
   ]
  },
  {
   "cell_type": "code",
   "execution_count": 7,
   "metadata": {},
   "outputs": [
    {
     "name": "stdout",
     "output_type": "stream",
     "text": [
      "[Episode 1 is 3600 seconds long, Episode 2 is 3600 seconds long, Episode 3 is 3600 seconds long, Episode 4 is 3600 seconds long, Episode 5 is 3600 seconds long, Episode 6 is 3600 seconds long, Episode 7 is 3600 seconds long, Episode 8 is 3600 seconds long, Episode 9 is 3600 seconds long, Episode 10 is 3600 seconds long]\n",
      "Now playing Episode 1\n"
     ]
    },
    {
     "data": {
      "text/html": [
       "<img src=\"https://static.tvmaze.com/uploads/images/medium_landscape/339/848004.jpg\"/>"
      ],
      "text/plain": [
       "<IPython.core.display.Image object>"
      ]
     },
     "metadata": {},
     "output_type": "display_data"
    },
    {
     "name": "stdout",
     "output_type": "stream",
     "text": [
      "Now playing Episode 2\n"
     ]
    },
    {
     "data": {
      "text/html": [
       "<img src=\"https://static.tvmaze.com/uploads/images/medium_landscape/339/848005.jpg\"/>"
      ],
      "text/plain": [
       "<IPython.core.display.Image object>"
      ]
     },
     "metadata": {},
     "output_type": "display_data"
    },
    {
     "name": "stdout",
     "output_type": "stream",
     "text": [
      "Now playing Episode 3\n"
     ]
    },
    {
     "data": {
      "text/html": [
       "<img src=\"https://static.tvmaze.com/uploads/images/medium_landscape/339/848006.jpg\"/>"
      ],
      "text/plain": [
       "<IPython.core.display.Image object>"
      ]
     },
     "metadata": {},
     "output_type": "display_data"
    },
    {
     "name": "stdout",
     "output_type": "stream",
     "text": [
      "Are you still watching? also get a job! y/n n\n"
     ]
    }
   ],
   "source": [
    "my_show.watch()"
   ]
  },
  {
   "cell_type": "code",
   "execution_count": 8,
   "metadata": {},
   "outputs": [],
   "source": [
    "class User():\n",
    "    #access modifiers give different levels of security to attributes & methods\n",
    "    __id_counter = 1 #class attribute, private attribute!\n",
    "\n",
    "    def __init__(self, username, password):\n",
    "        self.username = username\n",
    "        self.password = password[::2]\n",
    "        self.id = User.__id_counter\n",
    "        User.__id_counter += 1\n",
    "        self.watch_list = []\n",
    "\n",
    "\n",
    "    def __str__(self):\n",
    "        formatted_user = f\"\"\"\n",
    "        {self.id} - {self.username.title()}\n",
    "        pw: {self.password}\n",
    "        \"\"\"\n",
    "        #dosay\n",
    "        return formatted_user\n",
    "\n",
    "    def __repr__(self):\n",
    "        return f\"<User {self.id} | {self.username}>\"\n",
    "\n",
    "    def check_password(self, password_guess):\n",
    "        return self.password == password_guess[::-2] #mypassword [::-2] == dosay\n",
    "\n",
    "    "
   ]
  },
  {
   "cell_type": "markdown",
   "metadata": {},
   "source": [
    "## ABSTRACTION"
   ]
  },
  {
   "cell_type": "markdown",
   "metadata": {},
   "source": [
    "Abstraction is a process of hiding the implementation details from the user, only the functionality will be provided to the user. We have a bit to do before this becomes visible. But you've seen it before with presenting the user with the option to enter inputs. We then take those input and do something with them.\n",
    "<br><br>"
   ]
  },
  {
   "cell_type": "code",
   "execution_count": 12,
   "metadata": {},
   "outputs": [],
   "source": [
    "class Theater():\n",
    "    \n",
    "    def __init__(self):\n",
    "        self.users = set()\n",
    "        self.current_user = None \n",
    "        \n",
    "        \n",
    "    #add a user\n",
    "    def add_user(self):\n",
    "        username = input(\"Please enter a username: \")\n",
    "        \n",
    "        username_set = set()\n",
    "                        \n",
    "        if username in {u.username for u in self.users}: #u is a variable represents each user object\n",
    "            print(\"User with that name already exists. Please try again!\", 409) #409 error, conflict in request \n",
    "            \n",
    "        else:\n",
    "            password = input(\"Please enter a password: \")\n",
    "            user = User(username, password) #user object\n",
    "            self.users.add(user) #adding that object to the users list\n",
    "            print(f\"{user} has been created!!!\")\n",
    "            \n",
    "        self.login_user()\n",
    "        \n",
    "        \n",
    "        \n",
    "    #login our users\n",
    "    def login_user(self):\n",
    "        print(\"Log into your account\")\n",
    "        username = input(\"What is your username? \")\n",
    "        password = input(\"What is your password? \")\n",
    "        \n",
    "        for user in self.users:\n",
    "            if user.username == username and user.check_password(password):\n",
    "                self.current_user = user\n",
    "                print(f\"{user} is logged in!\")\n",
    "                break\n",
    "            \n",
    "        else:\n",
    "            print(\"Username and/or password is incorrect\", 409) #409 error, conflict in request \n",
    "            \n",
    "    #logout our users\n",
    "    def logout(self):\n",
    "        self.current_user = None\n",
    "        print(\"You have successfuly logged out!\")\n",
    "        \n",
    "        \n",
    "    #update user attributes\n",
    "    def update_user(self):\n",
    "        \n",
    "        if self.current_user:\n",
    "            print(self.current_user)\n",
    "            new_user = input(\"Please enter the updated username or enter skip to keep current username \").lower()\n",
    "            if new_user != 'skip':\n",
    "                self.current_user.username = new_user\n",
    "            new_pw = input(\"Please enter the updated password or enter skip to keep current password \").lower()\n",
    "            if new_pw != 'skip':\n",
    "                self.current_user.password = new_pw\n",
    "\n",
    "            print(f\"{self.current_user.username}'s info has been updated!\")\n",
    "            \n",
    "        else:\n",
    "            print(\"Please login to update user info\")\n",
    "            self.login_user()\n",
    "            \n",
    "            \n",
    "            \n",
    "    #=========== WATCHLIST FUNCTIONALITY ==============\n",
    "    \n",
    "    #add to our watchlist\n",
    "    def add_to_watchlist(self, query = \"\"):\n",
    "        \n",
    "        if self.current_user:\n",
    "            show = Series()\n",
    "            show.get_info(query)\n",
    "            \n",
    "            self.current_user.watch_list.append(show)\n",
    "            \n",
    "            print(f\"{show.title} has been added to your watchlist\")\n",
    "            \n",
    "        else:\n",
    "            print(\"You must be logged in in order to add to your watchlist\")\n",
    "            self.login_user()\n",
    "            \n",
    "            \n",
    "    #view your watchlist\n",
    "    def view_watchlist(self):\n",
    "        \n",
    "        if self.current_user:\n",
    "            print(f\"Your watchlist has {len(self.current_user.watch_list)} shows in it\")\n",
    "            for series in self.current_user.watch_list:\n",
    "                print(f\"\\n{series} | Episodes: {len(series.episodes)}\")\n",
    "                print(f\"\\nSummary: {series.summary}\")\n",
    "                display(Image(url = series.episodes[0].link))\n",
    "        else:\n",
    "            print(\"You must be logged in in order to delete from your watchlist\")\n",
    "            self.login_user()    \n",
    "            \n",
    "    #delete from your watchlist\n",
    "    def delete(self):\n",
    "        \n",
    "        if self.current_user:\n",
    "            print(\"Your current watchlist: \")\n",
    "            self.view_watchlist()\n",
    "\n",
    "            response = input(\"What would you like to remove from your watchlist? \")\n",
    "\n",
    "            for series in self.current_user.watch_list:\n",
    "                if series.title.lower() == response.lower():\n",
    "                    self.current_user.watch_list.remove(series)\n",
    "                    print(f\"{response.title()} has been removed from your watchlist\")\n",
    "                    break\n",
    "\n",
    "            else:\n",
    "                print(\"That title is not in your watch list\", 404) #404 not found \n",
    "            \n",
    "        else:\n",
    "            print(\"You must be logged in in order to delete from your watchlist\")\n",
    "            self.login_user()\n",
    "            \n",
    "        self.view_watchlist()\n",
    "        \n",
    "        \n",
    "    #choose from our watchlist\n",
    "    def choose_from_watchlist(self):\n",
    "        \n",
    "        if self.current_user:\n",
    "            \n",
    "            self.view_watchlist()\n",
    "            watch = input(\"What would you like to watch? \").strip()\n",
    "            for series in self.current_user.watch_list:\n",
    "                if series.title.lower() == watch.lower():\n",
    "                    series.watch()\n",
    "                    \n",
    "            else:\n",
    "                response = input(f\"{watch} is not curently in your watchlist...would you like to add it? y/n\")\n",
    "                if response in {'yes', 'y', 'yeah', 'ye'}:\n",
    "                    self.add_to_watchlist(watch)\n",
    "                    \n",
    "                    print(\".........\")\n",
    "                    sleep(2)\n",
    "                    print(\".........\")\n",
    "                    self.current_user.watch_list[-1].watch()\n",
    "        \n",
    "        else:\n",
    "            print(\"You must be logged in in order to delete from your watchlist\")\n",
    "            self.login_user()\n",
    "            \n",
    "            \n",
    "            \n",
    "            \n",
    "     #=========== RUN FUNCTIONALITY ==============\n",
    "    \n",
    "    \n",
    "    def run(self):\n",
    "        \n",
    "        \"\"\"\n",
    "        Method on the Theater Class\n",
    "        run() allows user to choose from a series of options to create users\n",
    "        and search for shows and create watchlist \n",
    "        \"\"\"\n",
    "        \n",
    "        display(Image(generic_image))\n",
    "        \n",
    "        if self.users:\n",
    "            self.choose_user()\n",
    "            \n",
    "        else:\n",
    "            self.add_user()\n",
    "            \n",
    "            \n",
    "        print(\"\"\"            \n",
    "            What would you like to do?            \n",
    "            Add - add a new user\n",
    "            Login - login to your profile\n",
    "            Update - update user info\n",
    "            Logout - logout of your profile            \n",
    "            Search - Search for shows\n",
    "            Watch - Pick something from your watchlist            \n",
    "            View - view watch list\n",
    "            Delete - delete from watch list\n",
    "            Quit - close the application           \n",
    "\n",
    "            \"\"\")\n",
    "        \n",
    "        while True: \n",
    "            response = input(\"What would you like to do? (add, login, update, logout, search, watch, view, delete, quit)\").lower().strip()\n",
    "            \n",
    "            \n",
    "            if response == 'add':\n",
    "                self.add_user()\n",
    "                \n",
    "            elif response == 'login':\n",
    "                self.login_user()\n",
    "            elif response == 'update':\n",
    "                self.update_user()\n",
    "            elif response == 'logout':\n",
    "                self.logout()\n",
    "            elif response == 'search':\n",
    "                self.add_to_watchlist()\n",
    "            elif response == 'watch':\n",
    "                self.choose_from_watchlist()\n",
    "            elif response == 'view':\n",
    "                self.view_watchlist()\n",
    "            elif response == 'delete':\n",
    "                self.delete()\n",
    "            elif response == 'quit':\n",
    "                print(f\"Thanks for watching! {self.current_user} We love you! Come back soon :) \")\n",
    "                break\n",
    "            else:\n",
    "                print(\"Invalid Input: please try again!\")"
   ]
  },
  {
   "cell_type": "code",
   "execution_count": 13,
   "metadata": {},
   "outputs": [],
   "source": [
    "codeflix = Theater()"
   ]
  },
  {
   "cell_type": "code",
   "execution_count": 14,
   "metadata": {},
   "outputs": [
    {
     "ename": "FileNotFoundError",
     "evalue": "No such file or directory: 'codeflix.png'",
     "output_type": "error",
     "traceback": [
      "\u001b[0;31m---------------------------------------------------------------------------\u001b[0m",
      "\u001b[0;31mTypeError\u001b[0m                                 Traceback (most recent call last)",
      "File \u001b[0;32m/Library/Frameworks/Python.framework/Versions/3.11/lib/python3.11/site-packages/IPython/core/display.py:1045\u001b[0m, in \u001b[0;36mImage._data_and_metadata\u001b[0;34m(self, always_both)\u001b[0m\n\u001b[1;32m   1044\u001b[0m \u001b[38;5;28;01mtry\u001b[39;00m:\n\u001b[0;32m-> 1045\u001b[0m     b64_data \u001b[38;5;241m=\u001b[39m \u001b[43mb2a_base64\u001b[49m\u001b[43m(\u001b[49m\u001b[38;5;28;43mself\u001b[39;49m\u001b[38;5;241;43m.\u001b[39;49m\u001b[43mdata\u001b[49m\u001b[43m,\u001b[49m\u001b[43m \u001b[49m\u001b[43mnewline\u001b[49m\u001b[38;5;241;43m=\u001b[39;49m\u001b[38;5;28;43;01mFalse\u001b[39;49;00m\u001b[43m)\u001b[49m\u001b[38;5;241m.\u001b[39mdecode(\u001b[38;5;124m\"\u001b[39m\u001b[38;5;124mascii\u001b[39m\u001b[38;5;124m\"\u001b[39m)\n\u001b[1;32m   1046\u001b[0m \u001b[38;5;28;01mexcept\u001b[39;00m \u001b[38;5;167;01mTypeError\u001b[39;00m \u001b[38;5;28;01mas\u001b[39;00m e:\n",
      "\u001b[0;31mTypeError\u001b[0m: a bytes-like object is required, not 'str'",
      "\nThe above exception was the direct cause of the following exception:\n",
      "\u001b[0;31mFileNotFoundError\u001b[0m                         Traceback (most recent call last)",
      "File \u001b[0;32m/Library/Frameworks/Python.framework/Versions/3.11/lib/python3.11/site-packages/IPython/core/formatters.py:974\u001b[0m, in \u001b[0;36mMimeBundleFormatter.__call__\u001b[0;34m(self, obj, include, exclude)\u001b[0m\n\u001b[1;32m    971\u001b[0m     method \u001b[38;5;241m=\u001b[39m get_real_method(obj, \u001b[38;5;28mself\u001b[39m\u001b[38;5;241m.\u001b[39mprint_method)\n\u001b[1;32m    973\u001b[0m     \u001b[38;5;28;01mif\u001b[39;00m method \u001b[38;5;129;01mis\u001b[39;00m \u001b[38;5;129;01mnot\u001b[39;00m \u001b[38;5;28;01mNone\u001b[39;00m:\n\u001b[0;32m--> 974\u001b[0m         \u001b[38;5;28;01mreturn\u001b[39;00m \u001b[43mmethod\u001b[49m\u001b[43m(\u001b[49m\u001b[43minclude\u001b[49m\u001b[38;5;241;43m=\u001b[39;49m\u001b[43minclude\u001b[49m\u001b[43m,\u001b[49m\u001b[43m \u001b[49m\u001b[43mexclude\u001b[49m\u001b[38;5;241;43m=\u001b[39;49m\u001b[43mexclude\u001b[49m\u001b[43m)\u001b[49m\n\u001b[1;32m    975\u001b[0m     \u001b[38;5;28;01mreturn\u001b[39;00m \u001b[38;5;28;01mNone\u001b[39;00m\n\u001b[1;32m    976\u001b[0m \u001b[38;5;28;01melse\u001b[39;00m:\n",
      "File \u001b[0;32m/Library/Frameworks/Python.framework/Versions/3.11/lib/python3.11/site-packages/IPython/core/display.py:1035\u001b[0m, in \u001b[0;36mImage._repr_mimebundle_\u001b[0;34m(self, include, exclude)\u001b[0m\n\u001b[1;32m   1033\u001b[0m \u001b[38;5;28;01mif\u001b[39;00m \u001b[38;5;28mself\u001b[39m\u001b[38;5;241m.\u001b[39membed:\n\u001b[1;32m   1034\u001b[0m     mimetype \u001b[38;5;241m=\u001b[39m \u001b[38;5;28mself\u001b[39m\u001b[38;5;241m.\u001b[39m_mimetype\n\u001b[0;32m-> 1035\u001b[0m     data, metadata \u001b[38;5;241m=\u001b[39m \u001b[38;5;28;43mself\u001b[39;49m\u001b[38;5;241;43m.\u001b[39;49m\u001b[43m_data_and_metadata\u001b[49m\u001b[43m(\u001b[49m\u001b[43malways_both\u001b[49m\u001b[38;5;241;43m=\u001b[39;49m\u001b[38;5;28;43;01mTrue\u001b[39;49;00m\u001b[43m)\u001b[49m\n\u001b[1;32m   1036\u001b[0m     \u001b[38;5;28;01mif\u001b[39;00m metadata:\n\u001b[1;32m   1037\u001b[0m         metadata \u001b[38;5;241m=\u001b[39m {mimetype: metadata}\n",
      "File \u001b[0;32m/Library/Frameworks/Python.framework/Versions/3.11/lib/python3.11/site-packages/IPython/core/display.py:1047\u001b[0m, in \u001b[0;36mImage._data_and_metadata\u001b[0;34m(self, always_both)\u001b[0m\n\u001b[1;32m   1045\u001b[0m     b64_data \u001b[38;5;241m=\u001b[39m b2a_base64(\u001b[38;5;28mself\u001b[39m\u001b[38;5;241m.\u001b[39mdata, newline\u001b[38;5;241m=\u001b[39m\u001b[38;5;28;01mFalse\u001b[39;00m)\u001b[38;5;241m.\u001b[39mdecode(\u001b[38;5;124m\"\u001b[39m\u001b[38;5;124mascii\u001b[39m\u001b[38;5;124m\"\u001b[39m)\n\u001b[1;32m   1046\u001b[0m \u001b[38;5;28;01mexcept\u001b[39;00m \u001b[38;5;167;01mTypeError\u001b[39;00m \u001b[38;5;28;01mas\u001b[39;00m e:\n\u001b[0;32m-> 1047\u001b[0m     \u001b[38;5;28;01mraise\u001b[39;00m \u001b[38;5;167;01mFileNotFoundError\u001b[39;00m(\n\u001b[1;32m   1048\u001b[0m         \u001b[38;5;124m\"\u001b[39m\u001b[38;5;124mNo such file or directory: \u001b[39m\u001b[38;5;124m'\u001b[39m\u001b[38;5;132;01m%s\u001b[39;00m\u001b[38;5;124m'\u001b[39m\u001b[38;5;124m\"\u001b[39m \u001b[38;5;241m%\u001b[39m (\u001b[38;5;28mself\u001b[39m\u001b[38;5;241m.\u001b[39mdata)) \u001b[38;5;28;01mfrom\u001b[39;00m \u001b[38;5;21;01me\u001b[39;00m\n\u001b[1;32m   1049\u001b[0m md \u001b[38;5;241m=\u001b[39m {}\n\u001b[1;32m   1050\u001b[0m \u001b[38;5;28;01mif\u001b[39;00m \u001b[38;5;28mself\u001b[39m\u001b[38;5;241m.\u001b[39mmetadata:\n",
      "\u001b[0;31mFileNotFoundError\u001b[0m: No such file or directory: 'codeflix.png'"
     ]
    },
    {
     "ename": "FileNotFoundError",
     "evalue": "No such file or directory: 'codeflix.png'",
     "output_type": "error",
     "traceback": [
      "\u001b[0;31m---------------------------------------------------------------------------\u001b[0m",
      "\u001b[0;31mTypeError\u001b[0m                                 Traceback (most recent call last)",
      "File \u001b[0;32m/Library/Frameworks/Python.framework/Versions/3.11/lib/python3.11/site-packages/IPython/core/display.py:1045\u001b[0m, in \u001b[0;36mImage._data_and_metadata\u001b[0;34m(self, always_both)\u001b[0m\n\u001b[1;32m   1044\u001b[0m \u001b[38;5;28;01mtry\u001b[39;00m:\n\u001b[0;32m-> 1045\u001b[0m     b64_data \u001b[38;5;241m=\u001b[39m \u001b[43mb2a_base64\u001b[49m\u001b[43m(\u001b[49m\u001b[38;5;28;43mself\u001b[39;49m\u001b[38;5;241;43m.\u001b[39;49m\u001b[43mdata\u001b[49m\u001b[43m,\u001b[49m\u001b[43m \u001b[49m\u001b[43mnewline\u001b[49m\u001b[38;5;241;43m=\u001b[39;49m\u001b[38;5;28;43;01mFalse\u001b[39;49;00m\u001b[43m)\u001b[49m\u001b[38;5;241m.\u001b[39mdecode(\u001b[38;5;124m\"\u001b[39m\u001b[38;5;124mascii\u001b[39m\u001b[38;5;124m\"\u001b[39m)\n\u001b[1;32m   1046\u001b[0m \u001b[38;5;28;01mexcept\u001b[39;00m \u001b[38;5;167;01mTypeError\u001b[39;00m \u001b[38;5;28;01mas\u001b[39;00m e:\n",
      "\u001b[0;31mTypeError\u001b[0m: a bytes-like object is required, not 'str'",
      "\nThe above exception was the direct cause of the following exception:\n",
      "\u001b[0;31mFileNotFoundError\u001b[0m                         Traceback (most recent call last)",
      "File \u001b[0;32m/Library/Frameworks/Python.framework/Versions/3.11/lib/python3.11/site-packages/IPython/core/formatters.py:344\u001b[0m, in \u001b[0;36mBaseFormatter.__call__\u001b[0;34m(self, obj)\u001b[0m\n\u001b[1;32m    342\u001b[0m     method \u001b[38;5;241m=\u001b[39m get_real_method(obj, \u001b[38;5;28mself\u001b[39m\u001b[38;5;241m.\u001b[39mprint_method)\n\u001b[1;32m    343\u001b[0m     \u001b[38;5;28;01mif\u001b[39;00m method \u001b[38;5;129;01mis\u001b[39;00m \u001b[38;5;129;01mnot\u001b[39;00m \u001b[38;5;28;01mNone\u001b[39;00m:\n\u001b[0;32m--> 344\u001b[0m         \u001b[38;5;28;01mreturn\u001b[39;00m \u001b[43mmethod\u001b[49m\u001b[43m(\u001b[49m\u001b[43m)\u001b[49m\n\u001b[1;32m    345\u001b[0m     \u001b[38;5;28;01mreturn\u001b[39;00m \u001b[38;5;28;01mNone\u001b[39;00m\n\u001b[1;32m    346\u001b[0m \u001b[38;5;28;01melse\u001b[39;00m:\n",
      "File \u001b[0;32m/Library/Frameworks/Python.framework/Versions/3.11/lib/python3.11/site-packages/IPython/core/display.py:1067\u001b[0m, in \u001b[0;36mImage._repr_png_\u001b[0;34m(self)\u001b[0m\n\u001b[1;32m   1065\u001b[0m \u001b[38;5;28;01mdef\u001b[39;00m \u001b[38;5;21m_repr_png_\u001b[39m(\u001b[38;5;28mself\u001b[39m):\n\u001b[1;32m   1066\u001b[0m     \u001b[38;5;28;01mif\u001b[39;00m \u001b[38;5;28mself\u001b[39m\u001b[38;5;241m.\u001b[39membed \u001b[38;5;129;01mand\u001b[39;00m \u001b[38;5;28mself\u001b[39m\u001b[38;5;241m.\u001b[39mformat \u001b[38;5;241m==\u001b[39m \u001b[38;5;28mself\u001b[39m\u001b[38;5;241m.\u001b[39m_FMT_PNG:\n\u001b[0;32m-> 1067\u001b[0m         \u001b[38;5;28;01mreturn\u001b[39;00m \u001b[38;5;28;43mself\u001b[39;49m\u001b[38;5;241;43m.\u001b[39;49m\u001b[43m_data_and_metadata\u001b[49m\u001b[43m(\u001b[49m\u001b[43m)\u001b[49m\n",
      "File \u001b[0;32m/Library/Frameworks/Python.framework/Versions/3.11/lib/python3.11/site-packages/IPython/core/display.py:1047\u001b[0m, in \u001b[0;36mImage._data_and_metadata\u001b[0;34m(self, always_both)\u001b[0m\n\u001b[1;32m   1045\u001b[0m     b64_data \u001b[38;5;241m=\u001b[39m b2a_base64(\u001b[38;5;28mself\u001b[39m\u001b[38;5;241m.\u001b[39mdata, newline\u001b[38;5;241m=\u001b[39m\u001b[38;5;28;01mFalse\u001b[39;00m)\u001b[38;5;241m.\u001b[39mdecode(\u001b[38;5;124m\"\u001b[39m\u001b[38;5;124mascii\u001b[39m\u001b[38;5;124m\"\u001b[39m)\n\u001b[1;32m   1046\u001b[0m \u001b[38;5;28;01mexcept\u001b[39;00m \u001b[38;5;167;01mTypeError\u001b[39;00m \u001b[38;5;28;01mas\u001b[39;00m e:\n\u001b[0;32m-> 1047\u001b[0m     \u001b[38;5;28;01mraise\u001b[39;00m \u001b[38;5;167;01mFileNotFoundError\u001b[39;00m(\n\u001b[1;32m   1048\u001b[0m         \u001b[38;5;124m\"\u001b[39m\u001b[38;5;124mNo such file or directory: \u001b[39m\u001b[38;5;124m'\u001b[39m\u001b[38;5;132;01m%s\u001b[39;00m\u001b[38;5;124m'\u001b[39m\u001b[38;5;124m\"\u001b[39m \u001b[38;5;241m%\u001b[39m (\u001b[38;5;28mself\u001b[39m\u001b[38;5;241m.\u001b[39mdata)) \u001b[38;5;28;01mfrom\u001b[39;00m \u001b[38;5;21;01me\u001b[39;00m\n\u001b[1;32m   1049\u001b[0m md \u001b[38;5;241m=\u001b[39m {}\n\u001b[1;32m   1050\u001b[0m \u001b[38;5;28;01mif\u001b[39;00m \u001b[38;5;28mself\u001b[39m\u001b[38;5;241m.\u001b[39mmetadata:\n",
      "\u001b[0;31mFileNotFoundError\u001b[0m: No such file or directory: 'codeflix.png'"
     ]
    },
    {
     "data": {
      "text/plain": [
       "<IPython.core.display.Image object>"
      ]
     },
     "metadata": {},
     "output_type": "display_data"
    },
    {
     "ename": "KeyboardInterrupt",
     "evalue": "Interrupted by user",
     "output_type": "error",
     "traceback": [
      "\u001b[0;31m---------------------------------------------------------------------------\u001b[0m",
      "\u001b[0;31mKeyboardInterrupt\u001b[0m                         Traceback (most recent call last)",
      "Cell \u001b[0;32mIn[14], line 1\u001b[0m\n\u001b[0;32m----> 1\u001b[0m \u001b[43mcodeflix\u001b[49m\u001b[38;5;241;43m.\u001b[39;49m\u001b[43mrun\u001b[49m\u001b[43m(\u001b[49m\u001b[43m)\u001b[49m\n",
      "Cell \u001b[0;32mIn[12], line 169\u001b[0m, in \u001b[0;36mTheater.run\u001b[0;34m(self)\u001b[0m\n\u001b[1;32m    166\u001b[0m     \u001b[38;5;28mself\u001b[39m\u001b[38;5;241m.\u001b[39mchoose_user()\n\u001b[1;32m    168\u001b[0m \u001b[38;5;28;01melse\u001b[39;00m:\n\u001b[0;32m--> 169\u001b[0m     \u001b[38;5;28;43mself\u001b[39;49m\u001b[38;5;241;43m.\u001b[39;49m\u001b[43madd_user\u001b[49m\u001b[43m(\u001b[49m\u001b[43m)\u001b[49m\n\u001b[1;32m    172\u001b[0m \u001b[38;5;28mprint\u001b[39m(\u001b[38;5;124m\"\"\"\u001b[39m\u001b[38;5;124m            \u001b[39m\n\u001b[1;32m    173\u001b[0m \u001b[38;5;124m    What would you like to do?            \u001b[39m\n\u001b[1;32m    174\u001b[0m \u001b[38;5;124m    Add - add a new user\u001b[39m\n\u001b[0;32m   (...)\u001b[0m\n\u001b[1;32m    183\u001b[0m \n\u001b[1;32m    184\u001b[0m \u001b[38;5;124m    \u001b[39m\u001b[38;5;124m\"\"\"\u001b[39m)\n\u001b[1;32m    186\u001b[0m \u001b[38;5;28;01mwhile\u001b[39;00m \u001b[38;5;28;01mTrue\u001b[39;00m: \n",
      "Cell \u001b[0;32mIn[12], line 10\u001b[0m, in \u001b[0;36mTheater.add_user\u001b[0;34m(self)\u001b[0m\n\u001b[1;32m      9\u001b[0m \u001b[38;5;28;01mdef\u001b[39;00m \u001b[38;5;21madd_user\u001b[39m(\u001b[38;5;28mself\u001b[39m):\n\u001b[0;32m---> 10\u001b[0m     username \u001b[38;5;241m=\u001b[39m \u001b[38;5;28;43minput\u001b[39;49m\u001b[43m(\u001b[49m\u001b[38;5;124;43m\"\u001b[39;49m\u001b[38;5;124;43mPlease enter a username: \u001b[39;49m\u001b[38;5;124;43m\"\u001b[39;49m\u001b[43m)\u001b[49m\n\u001b[1;32m     12\u001b[0m     username_set \u001b[38;5;241m=\u001b[39m \u001b[38;5;28mset\u001b[39m()\n\u001b[1;32m     14\u001b[0m     \u001b[38;5;28;01mif\u001b[39;00m username \u001b[38;5;129;01min\u001b[39;00m {u\u001b[38;5;241m.\u001b[39musername \u001b[38;5;28;01mfor\u001b[39;00m u \u001b[38;5;129;01min\u001b[39;00m \u001b[38;5;28mself\u001b[39m\u001b[38;5;241m.\u001b[39musers}: \u001b[38;5;66;03m#u is a variable represents each user object\u001b[39;00m\n",
      "File \u001b[0;32m/Library/Frameworks/Python.framework/Versions/3.11/lib/python3.11/site-packages/ipykernel/kernelbase.py:1202\u001b[0m, in \u001b[0;36mKernel.raw_input\u001b[0;34m(self, prompt)\u001b[0m\n\u001b[1;32m   1200\u001b[0m     msg \u001b[38;5;241m=\u001b[39m \u001b[38;5;124m\"\u001b[39m\u001b[38;5;124mraw_input was called, but this frontend does not support input requests.\u001b[39m\u001b[38;5;124m\"\u001b[39m\n\u001b[1;32m   1201\u001b[0m     \u001b[38;5;28;01mraise\u001b[39;00m StdinNotImplementedError(msg)\n\u001b[0;32m-> 1202\u001b[0m \u001b[38;5;28;01mreturn\u001b[39;00m \u001b[38;5;28;43mself\u001b[39;49m\u001b[38;5;241;43m.\u001b[39;49m\u001b[43m_input_request\u001b[49m\u001b[43m(\u001b[49m\n\u001b[1;32m   1203\u001b[0m \u001b[43m    \u001b[49m\u001b[38;5;28;43mstr\u001b[39;49m\u001b[43m(\u001b[49m\u001b[43mprompt\u001b[49m\u001b[43m)\u001b[49m\u001b[43m,\u001b[49m\n\u001b[1;32m   1204\u001b[0m \u001b[43m    \u001b[49m\u001b[38;5;28;43mself\u001b[39;49m\u001b[38;5;241;43m.\u001b[39;49m\u001b[43m_parent_ident\u001b[49m\u001b[43m[\u001b[49m\u001b[38;5;124;43m\"\u001b[39;49m\u001b[38;5;124;43mshell\u001b[39;49m\u001b[38;5;124;43m\"\u001b[39;49m\u001b[43m]\u001b[49m\u001b[43m,\u001b[49m\n\u001b[1;32m   1205\u001b[0m \u001b[43m    \u001b[49m\u001b[38;5;28;43mself\u001b[39;49m\u001b[38;5;241;43m.\u001b[39;49m\u001b[43mget_parent\u001b[49m\u001b[43m(\u001b[49m\u001b[38;5;124;43m\"\u001b[39;49m\u001b[38;5;124;43mshell\u001b[39;49m\u001b[38;5;124;43m\"\u001b[39;49m\u001b[43m)\u001b[49m\u001b[43m,\u001b[49m\n\u001b[1;32m   1206\u001b[0m \u001b[43m    \u001b[49m\u001b[43mpassword\u001b[49m\u001b[38;5;241;43m=\u001b[39;49m\u001b[38;5;28;43;01mFalse\u001b[39;49;00m\u001b[43m,\u001b[49m\n\u001b[1;32m   1207\u001b[0m \u001b[43m\u001b[49m\u001b[43m)\u001b[49m\n",
      "File \u001b[0;32m/Library/Frameworks/Python.framework/Versions/3.11/lib/python3.11/site-packages/ipykernel/kernelbase.py:1245\u001b[0m, in \u001b[0;36mKernel._input_request\u001b[0;34m(self, prompt, ident, parent, password)\u001b[0m\n\u001b[1;32m   1242\u001b[0m \u001b[38;5;28;01mexcept\u001b[39;00m \u001b[38;5;167;01mKeyboardInterrupt\u001b[39;00m:\n\u001b[1;32m   1243\u001b[0m     \u001b[38;5;66;03m# re-raise KeyboardInterrupt, to truncate traceback\u001b[39;00m\n\u001b[1;32m   1244\u001b[0m     msg \u001b[38;5;241m=\u001b[39m \u001b[38;5;124m\"\u001b[39m\u001b[38;5;124mInterrupted by user\u001b[39m\u001b[38;5;124m\"\u001b[39m\n\u001b[0;32m-> 1245\u001b[0m     \u001b[38;5;28;01mraise\u001b[39;00m \u001b[38;5;167;01mKeyboardInterrupt\u001b[39;00m(msg) \u001b[38;5;28;01mfrom\u001b[39;00m \u001b[38;5;28;01mNone\u001b[39;00m\n\u001b[1;32m   1246\u001b[0m \u001b[38;5;28;01mexcept\u001b[39;00m \u001b[38;5;167;01mException\u001b[39;00m:\n\u001b[1;32m   1247\u001b[0m     \u001b[38;5;28mself\u001b[39m\u001b[38;5;241m.\u001b[39mlog\u001b[38;5;241m.\u001b[39mwarning(\u001b[38;5;124m\"\u001b[39m\u001b[38;5;124mInvalid Message:\u001b[39m\u001b[38;5;124m\"\u001b[39m, exc_info\u001b[38;5;241m=\u001b[39m\u001b[38;5;28;01mTrue\u001b[39;00m)\n",
      "\u001b[0;31mKeyboardInterrupt\u001b[0m: Interrupted by user"
     ]
    }
   ],
   "source": [
    "codeflix.run()"
   ]
  },
  {
   "cell_type": "markdown",
   "metadata": {},
   "source": [
    "## Exercise 1"
   ]
  },
  {
   "cell_type": "markdown",
   "metadata": {},
   "source": [
    "<p>Describe in your own words the following concepts and give an analogy tying to a real-world concept."
   ]
  },
  {
   "cell_type": "markdown",
   "metadata": {},
   "source": [
    "#### Difference between a Class and an Object"
   ]
  },
  {
   "cell_type": "code",
   "execution_count": 5,
   "metadata": {},
   "outputs": [
    {
     "data": {
      "text/plain": [
       "' An object is similar to how how real world objects work in the sense that they all have a specific function, there can be many type of objects, some that are the same and do the same function and some that are completely different. The type of object would be like the Class is has, by this I mean the functions it does, and the attributes it has. An analogy would be a chair, a chair is an object and it has certain functions, those functions(class) allows people to use the object to sit down. '"
      ]
     },
     "execution_count": 5,
     "metadata": {},
     "output_type": "execute_result"
    }
   ],
   "source": [
    "\"\"\" An object is similar to how how real world objects work in the sense that they all \n",
    "have a specific function, there can be many type of objects, some that are the same and \n",
    "do the same function and some that are completely different. The type of object would be \n",
    "like the Class is has, by this I mean the functions it does, and the attributes it has. \n",
    "An analogy would be a chair, a chair is an object and it has certain functions, \n",
    "those functions(class) allows people to use the object to sit down. \"\"\" "
   ]
  },
  {
   "cell_type": "markdown",
   "metadata": {},
   "source": [
    "#### Encapsulation"
   ]
  },
  {
   "cell_type": "code",
   "execution_count": 2,
   "metadata": {},
   "outputs": [
    {
     "data": {
      "text/plain": [
       "'This means variables inside a class can be made to not interact with each other. This is used to keep class variables separated and hidden from each other so that other code can’t access it. This An analogy would be if you had a lunchbox of different foods and each type of food was separated by a container, this keeps the different foods from touching each other and mixing, or tasting like another type of food when you go to eat it. The food is hidden from each other, through these containers.'"
      ]
     },
     "execution_count": 2,
     "metadata": {},
     "output_type": "execute_result"
    }
   ],
   "source": [
    "\"\"\"This means variables inside a class can be made to not interact with each other. \n",
    "This is used to keep class variables separated and hidden from each other so that other \n",
    "code can’t access it. This An analogy would be if you had a lunchbox of different foods and \n",
    "each type of food was separated by a container, this keeps the different foods from \n",
    "touching each other and mixing, or tasting like another type of food when you go to eat it. \n",
    "The food is hidden from each other, through these containers.\"\"\""
   ]
  },
  {
   "cell_type": "markdown",
   "metadata": {},
   "source": [
    "#### Inheritance"
   ]
  },
  {
   "cell_type": "code",
   "execution_count": 3,
   "metadata": {},
   "outputs": [
    {
     "data": {
      "text/plain": [
       "'This is when classes acquire attributes of other classes, one class can have the same class attributes and methods as another one but can also be changed around and added to without editing the main(parent) class. This is similar to how genes are passed down in people and animals. Parents pass down their genetics to their children, this is why children often look similar to their parents since they have acquired similar genes.  '"
      ]
     },
     "execution_count": 3,
     "metadata": {},
     "output_type": "execute_result"
    }
   ],
   "source": [
    "\"\"\"This is when classes acquire attributes of other classes, one class can have the same \n",
    "class attributes and methods as another one but can also be changed around and added to \n",
    "without editing the main(parent) class. This is similar to how genes are passed down in \n",
    "people and animals. Parents pass down their genetics to their children, this is why children \n",
    "often look similar to their parents since they have acquired similar genes.  \"\"\""
   ]
  },
  {
   "cell_type": "markdown",
   "metadata": {},
   "source": [
    "#### Polymorphism"
   ]
  },
  {
   "cell_type": "code",
   "execution_count": 6,
   "metadata": {},
   "outputs": [
    {
     "data": {
      "text/plain": [
       "'This allows objects to perform different functions/methods depending on the context even though it is from the same class. An analogy similar to the chair one I gave earlier is that you might notice that not all chairs are the same, so they might perform different functions/methods depending on their context. A rocking chair lets you rock back-n-forth, a massage chair will massage your back for you, but what makes a chair a chair is the fact that it is still used to sit. In a sense the chair is just morphing into different forms.  '"
      ]
     },
     "execution_count": 6,
     "metadata": {},
     "output_type": "execute_result"
    }
   ],
   "source": [
    "\"\"\"This allows objects to perform different functions/methods depending on the context even \n",
    "though it is from the same class. An analogy similar to the chair one I gave earlier is that \n",
    "you might notice that not all chairs are the same, so they might perform different \n",
    "functions/methods depending on their context. A rocking chair lets you rock back-n-forth, \n",
    "a massage chair will massage your back for you, but what makes a chair a chair is the fact \n",
    "that it is still used to sit. In a sense the chair is just morphing into different forms.  \"\"\""
   ]
  },
  {
   "cell_type": "markdown",
   "metadata": {},
   "source": [
    "#### Abstraction"
   ]
  },
  {
   "cell_type": "code",
   "execution_count": 7,
   "metadata": {},
   "outputs": [
    {
     "data": {
      "text/plain": [
       "'This is the process of presenting our code into something that is readable/viewable to the user without actually showing the code that does all that processing to the user. An analogy would be an alarm clock. An alarm clock might have buttons, dials, lights, and screens that allow the user to interact an read/view the alarm clock. What the user doesn’t see is the hidden processes that are happening inside the alarm clock that make it perform its tasks the user asks from it.  '"
      ]
     },
     "execution_count": 7,
     "metadata": {},
     "output_type": "execute_result"
    }
   ],
   "source": [
    "\"\"\"This is the process of presenting our code into something that is readable/viewable to \n",
    "the user without actually showing the code that does all that processing to the user. \n",
    "An analogy would be an alarm clock. An alarm clock might have buttons, dials, lights, \n",
    "and screens that allow the user to interact an read/view the alarm clock. \n",
    "What the user doesn’t see is the hidden processes that are happening inside the \n",
    "alarm clock that make it perform its tasks the user asks from it.  \"\"\""
   ]
  },
  {
   "cell_type": "markdown",
   "metadata": {},
   "source": [
    "##  Exercise 2 (Optional):\n",
    "Discuss what other classes, methods, or fields (attributes) we could make to improve our streaming service using these principles. <br> <br>\n",
    "Start making a few of them and see where it leads. Make sure you either write out your thoughts in the below cell  or comment where you added code to the above Classes."
   ]
  },
  {
   "cell_type": "code",
   "execution_count": null,
   "metadata": {},
   "outputs": [],
   "source": []
  }
 ],
 "metadata": {
  "kernelspec": {
   "display_name": "Python 3 (ipykernel)",
   "language": "python",
   "name": "python3"
  },
  "language_info": {
   "codemirror_mode": {
    "name": "ipython",
    "version": 3
   },
   "file_extension": ".py",
   "mimetype": "text/x-python",
   "name": "python",
   "nbconvert_exporter": "python",
   "pygments_lexer": "ipython3",
   "version": "3.11.4"
  }
 },
 "nbformat": 4,
 "nbformat_minor": 4
}
